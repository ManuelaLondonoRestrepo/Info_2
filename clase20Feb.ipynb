{
 "cells": [
  {
   "cell_type": "code",
   "execution_count": null,
   "metadata": {},
   "outputs": [],
   "source": [
    "class Persona():\n",
    "    #Instanciamos los atributos\n",
    "    def __init__(self,nombre,cedula,genero):\n",
    "        self.__nombre = nombre\n",
    "        self.__cedula = cedula\n",
    "        self.__genero = genero\n",
    "\n",
    "persona1 = Persona(\"Juan\",123,\"m\") #genero objeto a partir de la clase persona\n",
    "#Debe definirse fuera de la clase, al mismo nivel de la clase\n",
    "\n",
    "#Lo unico que se indenta dentro de la clase son sus atributos y metodos\n",
    "\n",
    "#Subclase nueva\n",
    "\n",
    "class Paciente(Persona):\n",
    "    #genero el init global, incluye todo lo que me voy a traer de la clase padre y, al final, los nuevos de esta clase\n",
    "\n",
    "    def __init__(self,nombre,cedula,genero,servicio):\n",
    "        #Ahora traigo solo los de la clase padre\n",
    "        Persona.__init__(self,nombre,cedula,genero)\n",
    "        #Ahora defino la variable para el nuevo atributo de esta clase hija\n",
    "        #Asignar servicio\n",
    "        self._servicio = servicio\n",
    "\n",
    "    #Ahora puedo definir los metodos de esta clase hija\n",
    "        \n",
    "    def cambiarServicio(self):\n",
    "        self._servicio = input(\"Ingresar el servicio\")\n",
    "    def verServicio(self):\n",
    "        return self._servicio\n",
    "    #asignar cama\n",
    "    def asignarCama(self):\n",
    "        self._cama = input(\"Ingresar el número de cama\")\n",
    "    #asignar cuarto\n",
    "    def asignarCuarto(self):\n",
    "        self._cuarto = input(\"Ingresar el número de cuarto\")"
   ]
  }
 ],
 "metadata": {
  "language_info": {
   "name": "python"
  }
 },
 "nbformat": 4,
 "nbformat_minor": 2
}
